{
 "cells": [
  {
   "cell_type": "code",
   "execution_count": null,
   "metadata": {
    "collapsed": true
   },
   "outputs": [],
   "source": [
    "import torch"
   ]
  },
  {
   "cell_type": "code",
   "execution_count": null,
   "metadata": {
    "scrolled": true
   },
   "outputs": [],
   "source": [
    "x = torch.zeros(3, 3)\n",
    "print(x)\n",
    "\n",
    "x = torch.ones(3, 3)\n",
    "print(x)\n",
    "\n",
    "x = torch.randn(3, 3)\n",
    "print(x)\n",
    "\n",
    "#I think now we can understand what the parameters to the functions mean - the shape of the tensor\n",
    "x = torch.zeros(2,4)\n",
    "print(x)\n",
    "\n",
    "x = torch.zeros(4,3)\n",
    "print(x)\n",
    "\n",
    "\n",
    "x = torch.zeros(2, 3, 2, 2, 3)\n",
    "print(x)"
   ]
  },
  {
   "cell_type": "code",
   "execution_count": null,
   "metadata": {
    "scrolled": true
   },
   "outputs": [],
   "source": [
    "# The identity matrix - max upto two dimensions\n",
    "x = torch.eye(3)\n",
    "print(x)\n",
    "\n",
    "x = torch.eye(3,4)\n",
    "print(x)"
   ]
  },
  {
   "cell_type": "code",
   "execution_count": null,
   "metadata": {
    "scrolled": true
   },
   "outputs": [],
   "source": [
    "x = torch.linspace(1, 6, 10)\n",
    "print(x)"
   ]
  },
  {
   "cell_type": "code",
   "execution_count": null,
   "metadata": {},
   "outputs": [],
   "source": [
    "x = torch.logspace(.1, 1, 5)\n",
    "print(x)"
   ]
  },
  {
   "cell_type": "code",
   "execution_count": 78,
   "metadata": {},
   "outputs": [
    {
     "name": "stdout",
     "output_type": "stream",
     "text": [
      "\n",
      " 1\n",
      " 1\n",
      " 1\n",
      "[torch.FloatTensor of size 3]\n",
      "\n",
      "\n",
      " 3\n",
      " 3\n",
      " 3\n",
      "[torch.FloatTensor of size 3]\n",
      "\n"
     ]
    }
   ],
   "source": [
    "#So what we created bunch of numbers. What is the use?\n",
    "#Lets do some arithmetic\n",
    "\n",
    "x = torch.ones(3)\n",
    "print(x)\n",
    "\n",
    "y = x + 2\n",
    "print(y)"
   ]
  },
  {
   "cell_type": "code",
   "execution_count": 96,
   "metadata": {},
   "outputs": [
    {
     "name": "stdout",
     "output_type": "stream",
     "text": [
      "\n",
      "  1\n",
      "  2\n",
      "  3\n",
      "  4\n",
      "  5\n",
      "  6\n",
      "  7\n",
      "  8\n",
      "  9\n",
      " 10\n",
      "[torch.FloatTensor of size 10]\n",
      "\n",
      "\n",
      "  2\n",
      "  4\n",
      "  6\n",
      "  8\n",
      " 10\n",
      " 12\n",
      " 14\n",
      " 16\n",
      " 18\n",
      " 20\n",
      "[torch.FloatTensor of size 10]\n",
      "\n",
      "\n",
      "  0\n",
      "  2\n",
      "  6\n",
      " 12\n",
      " 20\n",
      " 30\n",
      " 42\n",
      " 56\n",
      " 72\n",
      " 90\n",
      "[torch.FloatTensor of size 10]\n",
      "\n"
     ]
    }
   ],
   "source": [
    "x = torch.range(1, 10)\n",
    "print(x)\n",
    "\n",
    "y = x * 2\n",
    "print(y)\n",
    "\n",
    "for i in range(10):\n",
    "    y[i] = x[i] * i\n",
    "    \n",
    "print(y)\n",
    "\n",
    "#So yes we can multiply the tensors by ordinary numbers, there is no need for 'i' to be a tensor"
   ]
  },
  {
   "cell_type": "code",
   "execution_count": 105,
   "metadata": {},
   "outputs": [
    {
     "name": "stdout",
     "output_type": "stream",
     "text": [
      "\n",
      "  1\n",
      "  3\n",
      "  5\n",
      "  6\n",
      " 78\n",
      "  3\n",
      " 67\n",
      "[torch.FloatTensor of size 7]\n",
      "\n",
      "\n",
      "  0   2   4   6   8\n",
      " 10  12  14  16  18\n",
      " 20  21  22  23  24\n",
      "[torch.FloatTensor of size 3x5]\n",
      "\n"
     ]
    }
   ],
   "source": [
    "#let take a larger tensors, and assign its values by hand\n",
    "x = torch.Tensor([1,3,5,6,78,3,67])\n",
    "print(x)\n",
    "\n",
    "x = torch.Tensor([range(0, 10, 2), range(10, 20, 2), range(20, 25)])\n",
    "print(x)"
   ]
  },
  {
   "cell_type": "code",
   "execution_count": 131,
   "metadata": {},
   "outputs": [
    {
     "name": "stdout",
     "output_type": "stream",
     "text": [
      "\n",
      "  1\n",
      "  2\n",
      "  3\n",
      "  4\n",
      "  5\n",
      "  6\n",
      "  7\n",
      "  8\n",
      "  9\n",
      " 10\n",
      "[torch.FloatTensor of size 10]\n",
      "\n",
      "\n",
      " 2\n",
      "[torch.FloatTensor of size 1]\n",
      "\n",
      "\n",
      "  2\n",
      "  4\n",
      "  6\n",
      "  8\n",
      " 10\n",
      " 12\n",
      " 14\n",
      " 16\n",
      " 18\n",
      " 20\n",
      "[torch.FloatTensor of size 10]\n",
      "\n"
     ]
    }
   ],
   "source": [
    "x = torch.linspace(1, 10, 10)\n",
    "print(x)\n",
    "\n",
    "w = torch.Tensor([2])\n",
    "print(w)\n",
    "\n",
    "# broadcasting  https://discuss.pytorch.org/t/broadcasting-or-alternative-solutions/120\n",
    "y = w.expand_as(x) * x\n",
    "print(y)"
   ]
  },
  {
   "cell_type": "code",
   "execution_count": 133,
   "metadata": {
    "scrolled": true
   },
   "outputs": [
    {
     "name": "stdout",
     "output_type": "stream",
     "text": [
      "\n",
      "  1\n",
      "  2\n",
      "  3\n",
      "  4\n",
      "  5\n",
      "  6\n",
      "  7\n",
      "  8\n",
      "  9\n",
      " 10\n",
      "[torch.FloatTensor of size 10]\n",
      "\n",
      "\n",
      " 2\n",
      " 3\n",
      "[torch.FloatTensor of size 2]\n",
      "\n"
     ]
    },
    {
     "ename": "ValueError",
     "evalue": "incorrect size: only supporting singleton expansion (size=1)",
     "output_type": "error",
     "traceback": [
      "\u001b[0;31m---------------------------------------------------------------------------\u001b[0m",
      "\u001b[0;31mValueError\u001b[0m                                Traceback (most recent call last)",
      "\u001b[0;32m<ipython-input-133-5e2d9f217d1d>\u001b[0m in \u001b[0;36m<module>\u001b[0;34m()\u001b[0m\n\u001b[1;32m      7\u001b[0m \u001b[0mprint\u001b[0m\u001b[0;34m(\u001b[0m\u001b[0mw\u001b[0m\u001b[0;34m)\u001b[0m\u001b[0;34m\u001b[0m\u001b[0m\n\u001b[1;32m      8\u001b[0m \u001b[0;34m\u001b[0m\u001b[0m\n\u001b[0;32m----> 9\u001b[0;31m \u001b[0my\u001b[0m \u001b[0;34m=\u001b[0m \u001b[0mw\u001b[0m\u001b[0;34m.\u001b[0m\u001b[0mexpand_as\u001b[0m\u001b[0;34m(\u001b[0m\u001b[0mx\u001b[0m\u001b[0;34m)\u001b[0m \u001b[0;34m*\u001b[0m \u001b[0mx\u001b[0m\u001b[0;34m\u001b[0m\u001b[0m\n\u001b[0m\u001b[1;32m     10\u001b[0m \u001b[0mprint\u001b[0m\u001b[0;34m(\u001b[0m\u001b[0my\u001b[0m\u001b[0;34m)\u001b[0m\u001b[0;34m\u001b[0m\u001b[0m\n",
      "\u001b[0;32m/home/paarulakan/environments/python/pytorch-py35/lib/python3.5/site-packages/torch/tensor.py\u001b[0m in \u001b[0;36mexpand_as\u001b[0;34m(self, tensor)\u001b[0m\n\u001b[1;32m    272\u001b[0m             \u001b[0mself\u001b[0m\u001b[0;34m.\u001b[0m\u001b[0mexpand\u001b[0m\u001b[0;34m(\u001b[0m\u001b[0mtensor\u001b[0m\u001b[0;34m.\u001b[0m\u001b[0msize\u001b[0m\u001b[0;34m(\u001b[0m\u001b[0;34m)\u001b[0m\u001b[0;34m)\u001b[0m\u001b[0;34m\u001b[0m\u001b[0m\n\u001b[1;32m    273\u001b[0m         \"\"\"\n\u001b[0;32m--> 274\u001b[0;31m         \u001b[0;32mreturn\u001b[0m \u001b[0mself\u001b[0m\u001b[0;34m.\u001b[0m\u001b[0mexpand\u001b[0m\u001b[0;34m(\u001b[0m\u001b[0mtensor\u001b[0m\u001b[0;34m.\u001b[0m\u001b[0msize\u001b[0m\u001b[0;34m(\u001b[0m\u001b[0;34m)\u001b[0m\u001b[0;34m)\u001b[0m\u001b[0;34m\u001b[0m\u001b[0m\n\u001b[0m\u001b[1;32m    275\u001b[0m \u001b[0;34m\u001b[0m\u001b[0m\n\u001b[1;32m    276\u001b[0m     \u001b[0;32mdef\u001b[0m \u001b[0mrepeat\u001b[0m\u001b[0;34m(\u001b[0m\u001b[0mself\u001b[0m\u001b[0;34m,\u001b[0m \u001b[0;34m*\u001b[0m\u001b[0msizes\u001b[0m\u001b[0;34m)\u001b[0m\u001b[0;34m:\u001b[0m\u001b[0;34m\u001b[0m\u001b[0m\n",
      "\u001b[0;32m/home/paarulakan/environments/python/pytorch-py35/lib/python3.5/site-packages/torch/tensor.py\u001b[0m in \u001b[0;36mexpand\u001b[0;34m(self, *sizes)\u001b[0m\n\u001b[1;32m    259\u001b[0m                 \u001b[0msrc_stride\u001b[0m\u001b[0;34m[\u001b[0m\u001b[0mi\u001b[0m\u001b[0;34m]\u001b[0m \u001b[0;34m=\u001b[0m \u001b[0;36m0\u001b[0m\u001b[0;34m\u001b[0m\u001b[0m\n\u001b[1;32m    260\u001b[0m             \u001b[0;32melif\u001b[0m \u001b[0msize\u001b[0m \u001b[0;34m!=\u001b[0m \u001b[0mtarget_size\u001b[0m\u001b[0;34m:\u001b[0m\u001b[0;34m\u001b[0m\u001b[0m\n\u001b[0;32m--> 261\u001b[0;31m                 \u001b[0;32mraise\u001b[0m \u001b[0mValueError\u001b[0m\u001b[0;34m(\u001b[0m\u001b[0;34m'incorrect size: only supporting singleton expansion (size=1)'\u001b[0m\u001b[0;34m)\u001b[0m\u001b[0;34m\u001b[0m\u001b[0m\n\u001b[0m\u001b[1;32m    262\u001b[0m \u001b[0;34m\u001b[0m\u001b[0m\n\u001b[1;32m    263\u001b[0m         result.set_(src.storage(), src.storage_offset(), torch.Size(src_size),\n",
      "\u001b[0;31mValueError\u001b[0m: incorrect size: only supporting singleton expansion (size=1)"
     ]
    }
   ],
   "source": [
    "x = torch.linspace(1, 10, 10)\n",
    "print(x)\n",
    "\n",
    "x = x.view(2, 5)\n",
    "\n",
    "w = torch.Tensor([2, 3])\n",
    "print(w)\n",
    "\n",
    "y = w.expand_as(x) * x        #Dont' work\n",
    "print(y)"
   ]
  },
  {
   "cell_type": "code",
   "execution_count": 154,
   "metadata": {},
   "outputs": [
    {
     "name": "stdout",
     "output_type": "stream",
     "text": [
      "\n",
      "  70  100\n",
      " 150  220\n",
      "[torch.FloatTensor of size 2x2]\n",
      "\n",
      "\n",
      "  70  100  170\n",
      " 150  220  390\n",
      " 230  340  610\n",
      "[torch.FloatTensor of size 3x3]\n",
      "\n"
     ]
    }
   ],
   "source": [
    "#lets do some matrix multiplications\n",
    "\n",
    "w = torch.Tensor([[10, 20],\n",
    "                  [30, 40]])\n",
    "\n",
    "x = torch.Tensor([[1,2], \n",
    "                  [3,4]])\n",
    "\n",
    "print(w.mm(x))\n",
    "\n",
    "\n",
    "w = torch.Tensor([[10, 20],\n",
    "                  [30, 40],\n",
    "                 [50, 60]])\n",
    "\n",
    "x = torch.Tensor([[1,2,5], \n",
    "                  [3,4,6]]\n",
    "                 )\n",
    "print(w.mm(x))"
   ]
  },
  {
   "cell_type": "code",
   "execution_count": 180,
   "metadata": {},
   "outputs": [
    {
     "name": "stdout",
     "output_type": "stream",
     "text": [
      "\n",
      "    1     2     3     4     5     6     7     8\n",
      "    9    10    11    12    13    14    15    16\n",
      "[torch.FloatTensor of size 2x8]\n",
      "\n",
      "\n",
      "(0 ,.,.) = \n",
      "   1   2   3   4\n",
      "   5   6   7   8\n",
      "\n",
      "(1 ,.,.) = \n",
      "   9  10  11  12\n",
      "  13  14  15  16\n",
      "[torch.FloatTensor of size 2x2x4]\n",
      "\n",
      "\n",
      "(0 ,0 ,.,.) = \n",
      "   1   2\n",
      "   3   4\n",
      "\n",
      "(0 ,1 ,.,.) = \n",
      "   5   6\n",
      "   7   8\n",
      "\n",
      "(1 ,0 ,.,.) = \n",
      "   9  10\n",
      "  11  12\n",
      "\n",
      "(1 ,1 ,.,.) = \n",
      "  13  14\n",
      "  15  16\n",
      "[torch.FloatTensor of size 2x2x2x2]\n",
      "\n",
      "\n",
      "(0 ,0 ,.,.) = \n",
      "   1   2\n",
      "   3   4\n",
      "\n",
      "(0 ,1 ,.,.) = \n",
      "   5  -6\n",
      "   7   8\n",
      "\n",
      "(1 ,0 ,.,.) = \n",
      "   9  10\n",
      "  11  12\n",
      "\n",
      "(1 ,1 ,.,.) = \n",
      "  13  14\n",
      "  15  16\n",
      "[torch.FloatTensor of size 2x2x2x2]\n",
      "\n"
     ]
    }
   ],
   "source": [
    "# making matrices by hand is hard right?\n",
    "x  = torch.range(1, 16)\n",
    "x_ = x.view(2, 8)\n",
    "print(x_)\n",
    "\n",
    "x_ = x.view(2, 2, 4)\n",
    "print(x_)\n",
    "\n",
    "\n",
    "x_ = x.view(2, 2, 2, -1)\n",
    "print(x_)\n",
    "\n",
    "\n",
    "x[5] = -1 * x[5]\n",
    "\n",
    "print(x_)"
   ]
  },
  {
   "cell_type": "code",
   "execution_count": null,
   "metadata": {
    "collapsed": true
   },
   "outputs": [],
   "source": []
  },
  {
   "cell_type": "code",
   "execution_count": 186,
   "metadata": {},
   "outputs": [
    {
     "name": "stdout",
     "output_type": "stream",
     "text": [
      "\n",
      "(0 ,.,.) = \n",
      "   1   2   3   4\n",
      "   5   6   7   8\n",
      "\n",
      "(1 ,.,.) = \n",
      "   9  10  11  12\n",
      "  13  14  15  16\n",
      "[torch.FloatTensor of size 2x2x4]\n",
      "\n",
      "\n",
      "(0 ,.,.) = \n",
      "  10  12  14  16\n",
      "  18  20  22  24\n",
      "[torch.FloatTensor of size 1x2x4]\n",
      "\n",
      "\n",
      "(0 ,.,.) = \n",
      "   6   8  10  12\n",
      "\n",
      "(1 ,.,.) = \n",
      "  22  24  26  28\n",
      "[torch.FloatTensor of size 2x1x4]\n",
      "\n",
      "\n",
      "(0 ,.,.) = \n",
      "  10\n",
      "  26\n",
      "\n",
      "(1 ,.,.) = \n",
      "  42\n",
      "  58\n",
      "[torch.FloatTensor of size 2x2x1]\n",
      "\n"
     ]
    }
   ],
   "source": [
    "x  = torch.range(1, 16)\n",
    "x_ = x.view(4,4)\n",
    "#print(x_)\n",
    "#print(x_.sum(dim = 0))\n",
    "#print(x_.sum(dim = 1))\n",
    "\n",
    "\n",
    "x_ = x.view(2,2,4)\n",
    "print(x_)\n",
    "print(x_.sum(dim = 0))\n",
    "print(x_.sum(dim = 1))\n",
    "print(x_.sum(dim = 2))"
   ]
  },
  {
   "cell_type": "code",
   "execution_count": 263,
   "metadata": {},
   "outputs": [
    {
     "name": "stdout",
     "output_type": "stream",
     "text": [
      "\n",
      "(0 ,.,.) = \n",
      "   1   2   3   4\n",
      "   5   6   7   8\n",
      "   9  10  11  12\n",
      "  13  14  15  16\n",
      "\n",
      "(1 ,.,.) = \n",
      "  17  18  19  20\n",
      "  21  22  23  24\n",
      "  25  26  27  28\n",
      "  29  30  31  32\n",
      "\n",
      "(2 ,.,.) = \n",
      "  33  34  35  36\n",
      "  37  38  39  40\n",
      "  41  42  43  44\n",
      "  45  46  47  48\n",
      "\n",
      "(3 ,.,.) = \n",
      "  49  50  51  52\n",
      "  53  54  55  56\n",
      "  57  58  59  60\n",
      "  61  62  63  64\n",
      "[torch.FloatTensor of size 4x4x4]\n",
      "\n"
     ]
    }
   ],
   "source": [
    "#Indexing and slicing\n",
    "x = torch.range(1, 64)\n",
    "#print(x)\n",
    "\n",
    "x_ = x.view(4,4,4)\n",
    "print(x_)\n"
   ]
  },
  {
   "cell_type": "code",
   "execution_count": 214,
   "metadata": {},
   "outputs": [
    {
     "name": "stdout",
     "output_type": "stream",
     "text": [
      "\n",
      " 21\n",
      " 22\n",
      " 23\n",
      " 24\n",
      "[torch.FloatTensor of size 4]\n",
      "\n"
     ]
    }
   ],
   "source": [
    "print(x_[1, 1, :])"
   ]
  },
  {
   "cell_type": "code",
   "execution_count": 220,
   "metadata": {},
   "outputs": [
    {
     "data": {
      "text/plain": [
       "\n",
       "  4\n",
       "  8\n",
       " 12\n",
       " 16\n",
       "[torch.FloatTensor of size 4]"
      ]
     },
     "execution_count": 220,
     "metadata": {},
     "output_type": "execute_result"
    }
   ],
   "source": [
    "x_[0][(x_%4 == 0)[0]]\n"
   ]
  },
  {
   "cell_type": "code",
   "execution_count": 272,
   "metadata": {},
   "outputs": [
    {
     "name": "stdout",
     "output_type": "stream",
     "text": [
      "\n",
      "    1     2     3     4     5     6     7     8\n",
      "    9    10    11    12    13    14    15    16\n",
      "   17    18    19    20    21    22    23    24\n",
      "   25    26    27    28    29    30    31    32\n",
      "   33    34    35    36    37    38    39    40\n",
      "   41    42    43    44    45    46    47    48\n",
      "   49    50    51    52    53    54    55    56\n",
      "   57    58    59    60    61    62    63    64\n",
      "[torch.FloatTensor of size 8x8]\n",
      "\n",
      "\n",
      "    1     0     0     0     0     0     0     0\n",
      "    0     1     0     0     0     0     0     0\n",
      "    0     0     1     0     0     0     0     0\n",
      "    0     0     0     1     0     0     0     0\n",
      "    0     0     0     0     1     0     0     0\n",
      "    0     0     0     0     0     1     0     0\n",
      "    0     0     0     0     0     0     1     0\n",
      "    0     0     0     0     0     0     0     1\n",
      "[torch.ByteTensor of size 8x8]\n",
      "\n",
      "\n",
      "  1\n",
      " 10\n",
      " 19\n",
      " 28\n",
      " 37\n",
      " 46\n",
      " 55\n",
      " 64\n",
      "[torch.FloatTensor of size 8]\n",
      "\n"
     ]
    }
   ],
   "source": [
    "#Indexing and slicing\n",
    "x = torch.range(1, 64)\n",
    "#print(x)\n",
    "\n",
    "x_ = x.view(8,8)\n",
    "print(x_)\n",
    "x_ind = torch.eye(8).byte()\n",
    "print(x_ind)\n",
    "#print(x, x.nonzero())\n",
    "print(x[x_ind])"
   ]
  },
  {
   "cell_type": "code",
   "execution_count": null,
   "metadata": {
    "collapsed": true
   },
   "outputs": [],
   "source": []
  },
  {
   "cell_type": "code",
   "execution_count": null,
   "metadata": {
    "collapsed": true
   },
   "outputs": [],
   "source": []
  },
  {
   "cell_type": "code",
   "execution_count": null,
   "metadata": {
    "collapsed": true
   },
   "outputs": [],
   "source": []
  },
  {
   "cell_type": "code",
   "execution_count": null,
   "metadata": {
    "collapsed": true
   },
   "outputs": [],
   "source": []
  },
  {
   "cell_type": "code",
   "execution_count": null,
   "metadata": {
    "collapsed": true
   },
   "outputs": [],
   "source": []
  },
  {
   "cell_type": "code",
   "execution_count": null,
   "metadata": {
    "collapsed": true
   },
   "outputs": [],
   "source": []
  },
  {
   "cell_type": "code",
   "execution_count": null,
   "metadata": {
    "collapsed": true
   },
   "outputs": [],
   "source": []
  },
  {
   "cell_type": "code",
   "execution_count": null,
   "metadata": {
    "collapsed": true
   },
   "outputs": [],
   "source": []
  },
  {
   "cell_type": "code",
   "execution_count": null,
   "metadata": {
    "collapsed": true
   },
   "outputs": [],
   "source": []
  },
  {
   "cell_type": "code",
   "execution_count": null,
   "metadata": {
    "collapsed": true
   },
   "outputs": [],
   "source": []
  }
 ],
 "metadata": {
  "kernelspec": {
   "display_name": "Python 3",
   "language": "python",
   "name": "python3"
  },
  "language_info": {
   "codemirror_mode": {
    "name": "ipython",
    "version": 3
   },
   "file_extension": ".py",
   "mimetype": "text/x-python",
   "name": "python",
   "nbconvert_exporter": "python",
   "pygments_lexer": "ipython3",
   "version": "3.5.2"
  }
 },
 "nbformat": 4,
 "nbformat_minor": 2
}
