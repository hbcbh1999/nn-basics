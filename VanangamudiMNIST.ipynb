{
 "cells": [
  {
   "cell_type": "code",
   "execution_count": 1,
   "metadata": {
    "collapsed": true
   },
   "outputs": [],
   "source": [
    "import torch\n",
    "from torch.autograd import Variable"
   ]
  },
  {
   "cell_type": "markdown",
   "metadata": {},
   "source": [
    "## DATASET"
   ]
  },
  {
   "cell_type": "code",
   "execution_count": 2,
   "metadata": {},
   "outputs": [],
   "source": [
    "dataset = [] #list of tuples (image, label)\n",
    "\n",
    "zer = torch.Tensor([[0, 0, 1, 1, 1],\n",
    "                    [0, 0, 1, 0, 1],\n",
    "                    [0, 0, 1, 0, 1],\n",
    "                    [0, 0, 1, 0, 1],\n",
    "                    [0, 0, 1, 1, 1],\n",
    "                   ])\n",
    "\n",
    "one = torch.Tensor([[0, 0, 0, 1, 0],\n",
    "                    [0, 0, 1, 1, 0],\n",
    "                    [0, 0, 0, 1, 0],\n",
    "                    [0, 0, 0, 1, 0],\n",
    "                    [0, 0, 1, 1, 1],\n",
    "                   ])\n",
    "\n",
    "two = torch.Tensor([[0, 0, 1, 1, 1],\n",
    "                    [0, 0, 0, 0, 1],\n",
    "                    [0, 0, 1, 1, 1],\n",
    "                    [0, 0, 1, 0, 0],\n",
    "                    [0, 0, 1, 1, 1],\n",
    "                   ])\n",
    "\n",
    "thr = torch.Tensor([[0, 0, 1, 1, 1],\n",
    "                    [0, 0, 0, 0, 1],\n",
    "                    [0, 0, 0, 1, 1],\n",
    "                    [0, 0, 0, 0, 1],\n",
    "                    [0, 0, 1, 1, 1],\n",
    "                   ])\n",
    "\n",
    "fou = torch.Tensor([[0, 0, 1, 0, 1],\n",
    "                    [0, 0, 1, 0, 1],\n",
    "                    [0, 0, 1, 1, 1],\n",
    "                    [0, 0, 0, 0, 1],\n",
    "                    [0, 0, 0, 0, 1],\n",
    "                   ])\n",
    "\n",
    "fiv = torch.Tensor([[0, 0, 1, 1, 1],\n",
    "                    [0, 0, 1, 0, 0],\n",
    "                    [0, 0, 1, 1, 1],\n",
    "                    [0, 0, 0, 0, 1],\n",
    "                    [0, 0, 1, 1, 1],\n",
    "                   ])\n",
    "\n",
    "six = torch.Tensor([[0, 0, 1, 1, 1],\n",
    "                    [0, 0, 1, 0, 0],\n",
    "                    [0, 0, 1, 1, 1],\n",
    "                    [0, 0, 1, 0, 1],\n",
    "                    [0, 0, 1, 1, 1],\n",
    "                   ])\n",
    "\n",
    "sev = torch.Tensor([[0, 0, 1, 1, 1],\n",
    "                    [0, 0, 0, 0, 1],\n",
    "                    [0, 0, 0, 0, 1],\n",
    "                    [0, 0, 0, 0, 1],\n",
    "                    [0, 0, 0, 0, 1],\n",
    "                   ])\n",
    "\n",
    "eig = torch.Tensor([[0, 0, 1, 1, 1],\n",
    "                    [0, 0, 1, 0, 1],\n",
    "                    [0, 0, 1, 1, 1],\n",
    "                    [0, 0, 1, 0, 1],\n",
    "                    [0, 0, 1, 1, 1],\n",
    "                   ])\n",
    "\n",
    "nin = torch.Tensor([[0, 0, 1, 1, 1],\n",
    "                    [0, 0, 1, 0, 1],\n",
    "                    [0, 0, 1, 1, 1],\n",
    "                    [0, 0, 0, 0, 1],\n",
    "                    [0, 0, 1, 1, 1],\n",
    "                   ])\n",
    "\n",
    "dataset.append((zer, torch.Tensor([0])))\n",
    "dataset.append((one, torch.Tensor([1])))\n",
    "dataset.append((two, torch.Tensor([2])))\n",
    "dataset.append((thr, torch.Tensor([3])))\n",
    "dataset.append((fou, torch.Tensor([4])))\n",
    "dataset.append((fiv, torch.Tensor([5])))\n",
    "dataset.append((six, torch.Tensor([6])))\n",
    "dataset.append((sev, torch.Tensor([7])))\n",
    "dataset.append((eig, torch.Tensor([8])))\n",
    "dataset.append((nin, torch.Tensor([9])))\n",
    "\n"
   ]
  },
  {
   "cell_type": "markdown",
   "metadata": {},
   "source": [
    "### Take a look into how the data looks like"
   ]
  },
  {
   "cell_type": "code",
   "execution_count": 3,
   "metadata": {
    "scrolled": true
   },
   "outputs": [
    {
     "data": {
      "image/png": "[encoded data removed]",
      "text/plain": [
       "<matplotlib.figure.Figure at 0x7ff4b5db5668>"
      ]
     },
     "metadata": {},
     "output_type": "display_data"
    }
   ],
   "source": [
    "%matplotlib inline\n",
    "import matplotlib.pyplot as plt\n",
    "from mpl_toolkits.axes_grid1 import ImageGrid\n",
    "from PIL import Image\n",
    "\n",
    "fig = plt.figure(1,(8., 8.))\n",
    "grid = ImageGrid(fig, 111,\n",
    "                 nrows_ncols=(2 , 5),\n",
    "                 axes_pad=0.1)\n",
    "\n",
    "for i, (data, target) in enumerate(dataset):\n",
    "    grid[i].matshow(Image.fromarray(data.numpy()))\n",
    "    \n",
    "plt.show()"
   ]
  },
  {
   "cell_type": "markdown",
   "metadata": {},
   "source": [
    "## MODEL"
   ]
  },
  {
   "cell_type": "code",
   "execution_count": 4,
   "metadata": {
    "collapsed": true
   },
   "outputs": [],
   "source": [
    "from torch import nn\n",
    "import torch.nn.functional as F\n",
    "import torch.optim as optim\n",
    "\n",
    "class Model(nn.Module):\n",
    "    def __init__(self):\n",
    "        super(Model, self).__init__()\n",
    "        self.output_layer = nn.Linear(5*5, 10)\n",
    "\n",
    "    def forward(self, x):\n",
    "        x = self.output_layer(x)\n",
    "        return F.log_softmax(x)\n",
    "    "
   ]
  },
  {
   "cell_type": "code",
   "execution_count": 39,
   "metadata": {
    "collapsed": true
   },
   "outputs": [],
   "source": [
    "model = Model()\n",
    "optimizer = optim.SGD(model.parameters(), lr=0.01, momentum=0.1)"
   ]
  },
  {
   "cell_type": "markdown",
   "metadata": {},
   "source": [
    "## Training"
   ]
  },
  {
   "cell_type": "markdown",
   "metadata": {},
   "source": [
    "#### Train for a single epoch"
   ]
  },
  {
   "cell_type": "code",
   "execution_count": 21,
   "metadata": {
    "collapsed": true
   },
   "outputs": [],
   "source": [
    "def train(model, optim, dataset):\n",
    "    model.train()\n",
    "    avg_loss = 0\n",
    "    for i, (data, target) in enumerate(dataset):\n",
    "        data = data.view(1, -1)\n",
    "        data, target = Variable(data), Variable(target.long())\n",
    "        optimizer.zero_grad()\n",
    "        output = model(data)\n",
    "\n",
    "        loss = F.nll_loss(output, target)\n",
    "        loss.backward()\n",
    "        optimizer.step()\n",
    "        avg_loss += loss.data[0]\n",
    "        \n",
    "    return avg_loss/len(dataset)"
   ]
  },
  {
   "cell_type": "markdown",
   "metadata": {},
   "source": [
    "### DATASET - MODEL - OUTPUT"
   ]
  },
  {
   "cell_type": "code",
   "execution_count": 40,
   "metadata": {},
   "outputs": [
    {
     "data": {
      "image/png": "[encoded data removed]",
      "text/plain": [
       "<matplotlib.figure.Figure at 0x7ff496f8b4a8>"
      ]
     },
     "metadata": {},
     "output_type": "display_data"
    }
   ],
   "source": [
    "fig = plt.figure(1, (8., 8.))\n",
    "grid = ImageGrid(fig, 111,\n",
    "                     nrows_ncols=(1, 3),\n",
    "                     axes_pad=0.1)\n",
    "\n",
    "\n",
    "data = [data.view(-1) for data, target in dataset]\n",
    "data = torch.stack(data)\n",
    "\n",
    "target = [target.view(-1) for data, target in dataset]\n",
    "target = torch.stack(target)\n",
    "grid[0].matshow(Image.fromarray(data.numpy()))\n",
    "grid[1].matshow(Image.fromarray(model.output_layer.weight.data.numpy()))\n",
    "\n",
    "output = model(Variable(data))\n",
    "grid[2].matshow(Image.fromarray(output.data.numpy()))\n",
    "\n",
    "plt.show()"
   ]
  },
  {
   "cell_type": "markdown",
   "metadata": {},
   "source": [
    "#### How many correct predictions without any training"
   ]
  },
  {
   "cell_type": "code",
   "execution_count": 44,
   "metadata": {},
   "outputs": [
    {
     "name": "stdout",
     "output_type": "stream",
     "text": [
      "correct: 1/10\n"
     ]
    }
   ],
   "source": [
    "pred = output.data.max(1)[1] \n",
    "correct = pred.eq(target.long()).sum()\n",
    "print('correct: {}/{}'.format(correct, len(dataset)))"
   ]
  },
  {
   "cell_type": "markdown",
   "metadata": {},
   "source": [
    "#### Train the model once and see how it works"
   ]
  },
  {
   "cell_type": "code",
   "execution_count": 41,
   "metadata": {
    "scrolled": true
   },
   "outputs": [
    {
     "data": {
      "text/plain": [
       "2.3488091826438904"
      ]
     },
     "execution_count": 41,
     "metadata": {},
     "output_type": "execute_result"
    }
   ],
   "source": [
    "train(model, optimizer, dataset)"
   ]
  },
  {
   "cell_type": "code",
   "execution_count": 46,
   "metadata": {},
   "outputs": [
    {
     "data": {
      "image/png": "[encoded data removed]",
      "text/plain": [
       "<matplotlib.figure.Figure at 0x7ff496d21f98>"
      ]
     },
     "metadata": {},
     "output_type": "display_data"
    },
    {
     "name": "stdout",
     "output_type": "stream",
     "text": [
      "correct: 1/10\n"
     ]
    }
   ],
   "source": [
    "fig = plt.figure(1, (8., 8.))\n",
    "grid = ImageGrid(fig, 111,\n",
    "                     nrows_ncols=(1, 3),\n",
    "                     axes_pad=0.1)\n",
    "\n",
    "\n",
    "data = [data.view(-1) for data, target in dataset]\n",
    "data = torch.stack(data)\n",
    "\n",
    "target = [target.view(-1) for data, target in dataset]\n",
    "target = torch.stack(target)\n",
    "grid[0].matshow(Image.fromarray(data.numpy()))\n",
    "grid[1].matshow(Image.fromarray(model.output_layer.weight.data.numpy()))\n",
    "\n",
    "output = model(Variable(data))\n",
    "grid[2].matshow(Image.fromarray(output.data.numpy()))\n",
    "\n",
    "plt.show()\n",
    "\n",
    "pred = output.data.max(1)[1] \n",
    "correct = pred.eq(target.long()).sum()\n",
    "print('correct: {}/{}'.format(correct, len(dataset)))\n"
   ]
  },
  {
   "cell_type": "markdown",
   "metadata": {},
   "source": [
    "### Train over multiple epochs"
   ]
  },
  {
   "cell_type": "code",
   "execution_count": 55,
   "metadata": {},
   "outputs": [],
   "source": [
    "def train_epochs(epochs, model, optim, dataset, print_every=100):\n",
    "    snaps = []\n",
    "    for epoch in range(epochs):\n",
    "        avg_loss = train(model, optim, dataset)\n",
    "        if not epoch % 10:\n",
    "            print('epoch: {}, loss:{}'.format(epoch, avg_loss/len(dataset)/10))\n",
    "            snaps.append(test_and_print(model, dataset))\n",
    "            \n",
    "    return snaps"
   ]
  },
  {
   "cell_type": "code",
   "execution_count": 71,
   "metadata": {
    "collapsed": true
   },
   "outputs": [],
   "source": [
    "def test_and_print(model, dataset, plot=True):\n",
    "      \n",
    "    data = [data.view(-1) for data, target in dataset]\n",
    "    data = torch.stack(data).squeeze()\n",
    "\n",
    "    target = [target.view(-1) for data, target in dataset]\n",
    "    target = torch.stack(target).squeeze()\n",
    "    output = model(Variable(data))\n",
    "        \n",
    "    loss = F.nll_loss(output, Variable(target.long()))\n",
    "    \n",
    "    dataset_img = Image.fromarray(data.numpy())\n",
    "    model_img   = Image.fromarray(model.output_layer.weight.data.numpy())\n",
    "    output_img  = Image.fromarray(output.data.numpy())\n",
    "    \n",
    "    pred = output.data.max(1)[1] \n",
    "    correct = pred.eq(target.long()).sum()\n",
    "    \n",
    "    if plot:\n",
    "        fig = plt.figure(1,(8., 8.))\n",
    "        grid = ImageGrid(fig, 111,\n",
    "                         nrows_ncols=(1 , 3),\n",
    "                         axes_pad=0.1)\n",
    "\n",
    "        grid[0].matshow(dataset_img)\n",
    "        grid[1].matshow(model_img)\n",
    "        grid[2].matshow(output_img)\n",
    "        plt.show()    \n",
    "        \n",
    "    print('correct: {}/{}, loss:{}'.format(correct, len(dataset), loss.data[0]))\n",
    "        \n",
    "    return dataset_img, model_img, output_img "
   ]
  },
  {
   "cell_type": "code",
   "execution_count": 72,
   "metadata": {},
   "outputs": [
    {
     "name": "stdout",
     "output_type": "stream",
     "text": [
      "epoch: 0, loss:0.021667167901992797\n"
     ]
    },
    {
     "data": {
      "image/png": "[encoded data removed]",
      "text/plain": [
       "<matplotlib.figure.Figure at 0x7ff4977bb710>"
      ]
     },
     "metadata": {},
     "output_type": "display_data"
    },
    {
     "name": "stdout",
     "output_type": "stream",
     "text": [
      "correct: 3/10, loss:2.103424549102783\n",
      "epoch: 10, loss:0.01983666467666626\n"
     ]
    },
    {
     "data": {
      "image/png": "[encoded data removed]",
      "text/plain": [
       "<matplotlib.figure.Figure at 0x7ff4978550f0>"
      ]
     },
     "metadata": {},
     "output_type": "display_data"
    },
    {
     "name": "stdout",
     "output_type": "stream",
     "text": [
      "correct: 7/10, loss:1.9242935180664062\n",
      "epoch: 20, loss:0.01822809302806854\n"
     ]
    },
    {
     "data": {
      "image/png": "[encoded data removed]",
      "text/plain": [
       "<matplotlib.figure.Figure at 0x7ff4ac0deda0>"
      ]
     },
     "metadata": {},
     "output_type": "display_data"
    },
    {
     "name": "stdout",
     "output_type": "stream",
     "text": [
      "correct: 8/10, loss:1.767102599143982\n",
      "epoch: 30, loss:0.016805861949920654\n"
     ]
    },
    {
     "data": {
      "image/png": "[encoded data removed]",
      "text/plain": [
       "<matplotlib.figure.Figure at 0x7ff496f82048>"
      ]
     },
     "metadata": {},
     "output_type": "display_data"
    },
    {
     "name": "stdout",
     "output_type": "stream",
     "text": [
      "correct: 9/10, loss:1.6285152435302734\n",
      "epoch: 40, loss:0.015553849816322327\n"
     ]
    },
    {
     "data": {
      "image/png": "[encoded data removed]",
      "text/plain": [
       "<matplotlib.figure.Figure at 0x7ff4974e04a8>"
      ]
     },
     "metadata": {},
     "output_type": "display_data"
    },
    {
     "name": "stdout",
     "output_type": "stream",
     "text": [
      "correct: 10/10, loss:1.5067808628082275\n",
      "epoch: 50, loss:0.014451799452304842\n"
     ]
    },
    {
     "data": {
      "image/png": "[encoded data removed]",
      "text/plain": [
       "<matplotlib.figure.Figure at 0x7ff497282e80>"
      ]
     },
     "metadata": {},
     "output_type": "display_data"
    },
    {
     "name": "stdout",
     "output_type": "stream",
     "text": [
      "correct: 10/10, loss:1.3997905254364014\n",
      "epoch: 60, loss:0.013478688180446624\n"
     ]
    },
    {
     "data": {
      "image/png": "[encoded data removed]",
      "text/plain": [
       "<matplotlib.figure.Figure at 0x7ff496becba8>"
      ]
     },
     "metadata": {},
     "output_type": "display_data"
    },
    {
     "name": "stdout",
     "output_type": "stream",
     "text": [
      "correct: 10/10, loss:1.3054249286651611\n",
      "epoch: 70, loss:0.012615645110607148\n"
     ]
    },
    {
     "data": {
      "image/png": "[encoded data removed]",
      "text/plain": [
       "<matplotlib.figure.Figure at 0x7ff497acf320>"
      ]
     },
     "metadata": {},
     "output_type": "display_data"
    },
    {
     "name": "stdout",
     "output_type": "stream",
     "text": [
      "correct: 10/10, loss:1.221809983253479\n",
      "epoch: 80, loss:0.011846685320138932\n"
     ]
    },
    {
     "data": {
      "image/png": "[encoded data removed]",
      "text/plain": [
       "<matplotlib.figure.Figure at 0x7ff496ec4e10>"
      ]
     },
     "metadata": {},
     "output_type": "display_data"
    },
    {
     "name": "stdout",
     "output_type": "stream",
     "text": [
      "correct: 10/10, loss:1.1473673582077026\n",
      "epoch: 90, loss:0.011158471167087555\n"
     ]
    },
    {
     "data": {
      "image/png": "[encoded data removed]",
      "text/plain": [
       "<matplotlib.figure.Figure at 0x7ff4b00e0358>"
      ]
     },
     "metadata": {},
     "output_type": "display_data"
    },
    {
     "name": "stdout",
     "output_type": "stream",
     "text": [
      "correct: 10/10, loss:1.0807849168777466\n"
     ]
    }
   ],
   "source": [
    "snaps = train_epochs(100, model, optimizer, dataset)"
   ]
  },
  {
   "cell_type": "code",
   "execution_count": null,
   "metadata": {},
   "outputs": [],
   "source": [
    "fig = plt.figure(1, (16., 16.))\n",
    "grid = ImageGrid(fig, 111,\n",
    "                     nrows_ncols=(len(snaps) , 3),\n",
    "                     axes_pad=0.1)\n",
    "\n",
    "for i, snap in enumerate(snaps):\n",
    "    for j, image in enumerate(snap):\n",
    "        grid[i * 3 + j].matshow(image)\n",
    "        \n",
    "plt.show()"
   ]
  },
  {
   "cell_type": "code",
   "execution_count": null,
   "metadata": {},
   "outputs": [],
   "source": [
    "one = model(Variable(dataset[5][0].view(1, -1)))\n",
    "print(one.max(1)[1])"
   ]
  },
  {
   "cell_type": "code",
   "execution_count": 8,
   "metadata": {},
   "outputs": [],
   "source": [
    "def test_and_print(model, dataset):\n",
    "    correct = 0\n",
    "    loss = 0\n",
    "    fig = plt.figure(1,(8., 8.))\n",
    "    grid = ImageGrid(fig, 111,\n",
    "                     nrows_ncols=(1 , 3),\n",
    "                     axes_pad=0.1)\n",
    "\n",
    "    data = [data.view(1, -1) for data, target in dataset]\n",
    "    data = torch.stack(data).squeeze()\n",
    "\n",
    "    target = [target.view(1, -1) for data, target in dataset]\n",
    "    target = torch.stack(target).squeeze()\n",
    "    grid[0].matshow(Image.fromarray(data.numpy()))\n",
    "    grid[1].matshow(Image.fromarray(model.output_layer.weight.data.numpy()))\n",
    "    \n",
    "    output = model(Variable(data))\n",
    "    grid[2].matshow(Image.fromarray(output.data.numpy()))\n",
    "\n",
    "    pred = output.data.max(1)[1] \n",
    "    print(pred.size())\n",
    "    print(target.size())\n",
    "    correct += pred.eq(target.long()).sum()\n",
    "    \n",
    "    print('correct: {}/{}'.format(correct, len(dataset)))\n",
    "    \n",
    "    plt.show()\n",
    "    return Image.fromarray(data.numpy()), Image.fromarray(model.output_layer.weight.data.numpy()), Image.fromarray(output.data.numpy())"
   ]
  },
  {
   "cell_type": "code",
   "execution_count": null,
   "metadata": {},
   "outputs": [],
   "source": [
    "test_and_print(model, dataset)"
   ]
  }
 ],
 "metadata": {
  "kernelspec": {
   "display_name": "Python 3",
   "language": "python",
   "name": "python3"
  },
  "language_info": {
   "codemirror_mode": {
    "name": "ipython",
    "version": 3
   },
   "file_extension": ".py",
   "mimetype": "text/x-python",
   "name": "python",
   "nbconvert_exporter": "python",
   "pygments_lexer": "ipython3",
   "version": "3.5.2"
  }
 },
 "nbformat": 4,
 "nbformat_minor": 2
}
